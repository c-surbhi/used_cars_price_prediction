{
 "cells": [
  {
   "cell_type": "code",
   "execution_count": 1,
   "metadata": {
    "execution": {
     "iopub.execute_input": "2025-03-15T09:25:40.090001Z",
     "iopub.status.busy": "2025-03-15T09:25:40.089609Z",
     "iopub.status.idle": "2025-03-15T09:25:40.094067Z",
     "shell.execute_reply": "2025-03-15T09:25:40.093076Z",
     "shell.execute_reply.started": "2025-03-15T09:25:40.089967Z"
    }
   },
   "outputs": [],
   "source": [
    "import sys\n",
    "import pandas as pd\n",
    "import torch\n",
    "from torch import nn\n",
    "import matplotlib.pyplot as plt"
   ]
  },
  {
   "cell_type": "code",
   "execution_count": 5,
   "metadata": {
    "execution": {
     "iopub.execute_input": "2025-03-15T09:25:43.420407Z",
     "iopub.status.busy": "2025-03-15T09:25:43.420064Z",
     "iopub.status.idle": "2025-03-15T09:25:43.445025Z",
     "shell.execute_reply": "2025-03-15T09:25:43.444056Z",
     "shell.execute_reply.started": "2025-03-15T09:25:43.420380Z"
    }
   },
   "outputs": [],
   "source": [
    "df = pd.read_csv('/used_cars.csv') "
   ]
  },
  {
   "cell_type": "code",
   "execution_count": 6,
   "metadata": {
    "execution": {
     "iopub.execute_input": "2025-03-15T09:25:47.886191Z",
     "iopub.status.busy": "2025-03-15T09:25:47.885798Z",
     "iopub.status.idle": "2025-03-15T09:25:47.892618Z",
     "shell.execute_reply": "2025-03-15T09:25:47.891354Z",
     "shell.execute_reply.started": "2025-03-15T09:25:47.886156Z"
    }
   },
   "outputs": [
    {
     "data": {
      "text/plain": [
       "Index(['brand', 'model', 'model_year', 'milage', 'fuel_type', 'engine',\n",
       "       'transmission', 'ext_col', 'int_col', 'accident', 'clean_title',\n",
       "       'price'],\n",
       "      dtype='object')"
      ]
     },
     "execution_count": 6,
     "metadata": {},
     "output_type": "execute_result"
    }
   ],
   "source": [
    "df.columns"
   ]
  },
  {
   "cell_type": "code",
   "execution_count": 7,
   "metadata": {
    "execution": {
     "iopub.execute_input": "2025-03-15T09:25:53.125741Z",
     "iopub.status.busy": "2025-03-15T09:25:53.125398Z",
     "iopub.status.idle": "2025-03-15T09:25:53.133583Z",
     "shell.execute_reply": "2025-03-15T09:25:53.132394Z",
     "shell.execute_reply.started": "2025-03-15T09:25:53.125711Z"
    }
   },
   "outputs": [
    {
     "data": {
      "text/plain": [
       "0    11\n",
       "1     3\n",
       "2     2\n",
       "3     9\n",
       "4     3\n",
       "Name: model_year, dtype: int64"
      ]
     },
     "execution_count": 7,
     "metadata": {},
     "output_type": "execute_result"
    }
   ],
   "source": [
    "age = df['model_year'].max() - df['model_year']\n",
    "age.head()"
   ]
  },
  {
   "cell_type": "code",
   "execution_count": 8,
   "metadata": {
    "execution": {
     "iopub.execute_input": "2025-03-15T09:25:54.485660Z",
     "iopub.status.busy": "2025-03-15T09:25:54.485314Z",
     "iopub.status.idle": "2025-03-15T09:25:54.492871Z",
     "shell.execute_reply": "2025-03-15T09:25:54.491748Z",
     "shell.execute_reply.started": "2025-03-15T09:25:54.485634Z"
    }
   },
   "outputs": [
    {
     "data": {
      "text/plain": [
       "0    51,000 mi.\n",
       "1    34,742 mi.\n",
       "2    22,372 mi.\n",
       "3    88,900 mi.\n",
       "4     9,835 mi.\n",
       "Name: milage, dtype: object"
      ]
     },
     "execution_count": 8,
     "metadata": {},
     "output_type": "execute_result"
    }
   ],
   "source": [
    "df['milage'].head()"
   ]
  },
  {
   "cell_type": "code",
   "execution_count": 13,
   "metadata": {
    "execution": {
     "iopub.execute_input": "2025-03-15T09:26:00.339599Z",
     "iopub.status.busy": "2025-03-15T09:26:00.339263Z",
     "iopub.status.idle": "2025-03-15T09:26:00.351518Z",
     "shell.execute_reply": "2025-03-15T09:26:00.350283Z",
     "shell.execute_reply.started": "2025-03-15T09:26:00.339572Z"
    }
   },
   "outputs": [
    {
     "name": "stderr",
     "output_type": "stream",
     "text": [
      "C:\\Users\\Lenovo\\AppData\\Local\\Temp/ipykernel_3992/1474472867.py:3: FutureWarning: The default value of regex will change from True to False in a future version.\n",
      "  milage = milage.str.replace(\"mi.\", \"\")\n"
     ]
    },
    {
     "data": {
      "text/plain": [
       "0    51000\n",
       "1    34742\n",
       "2    22372\n",
       "3    88900\n",
       "4     9835\n",
       "Name: milage, dtype: int32"
      ]
     },
     "execution_count": 13,
     "metadata": {},
     "output_type": "execute_result"
    }
   ],
   "source": [
    "milage = df['milage']\n",
    "milage = milage.str.replace(\",\", \"\")\n",
    "milage = milage.str.replace(\"mi.\", \"\")\n",
    "milage = milage.astype(int)\n",
    "milage.head()"
   ]
  },
  {
   "cell_type": "code",
   "execution_count": 14,
   "metadata": {
    "execution": {
     "iopub.execute_input": "2025-03-15T09:26:03.460616Z",
     "iopub.status.busy": "2025-03-15T09:26:03.460257Z",
     "iopub.status.idle": "2025-03-15T09:26:03.466363Z",
     "shell.execute_reply": "2025-03-15T09:26:03.465135Z",
     "shell.execute_reply.started": "2025-03-15T09:26:03.460586Z"
    }
   },
   "outputs": [
    {
     "name": "stdout",
     "output_type": "stream",
     "text": [
      "[<class 'int'>]\n"
     ]
    }
   ],
   "source": [
    "print(milage.apply(type).unique())"
   ]
  },
  {
   "cell_type": "code",
   "execution_count": 15,
   "metadata": {
    "execution": {
     "iopub.execute_input": "2025-03-15T09:26:05.898533Z",
     "iopub.status.busy": "2025-03-15T09:26:05.898185Z",
     "iopub.status.idle": "2025-03-15T09:26:05.906553Z",
     "shell.execute_reply": "2025-03-15T09:26:05.905238Z",
     "shell.execute_reply.started": "2025-03-15T09:26:05.898502Z"
    }
   },
   "outputs": [
    {
     "data": {
      "text/plain": [
       "0    $10,300\n",
       "1    $38,005\n",
       "2    $54,598\n",
       "3    $15,500\n",
       "4    $34,999\n",
       "Name: price, dtype: object"
      ]
     },
     "execution_count": 15,
     "metadata": {},
     "output_type": "execute_result"
    }
   ],
   "source": [
    "df['price'].head()"
   ]
  },
  {
   "cell_type": "code",
   "execution_count": 16,
   "metadata": {
    "execution": {
     "iopub.execute_input": "2025-03-15T09:26:10.527567Z",
     "iopub.status.busy": "2025-03-15T09:26:10.527239Z",
     "iopub.status.idle": "2025-03-15T09:26:10.540865Z",
     "shell.execute_reply": "2025-03-15T09:26:10.540069Z",
     "shell.execute_reply.started": "2025-03-15T09:26:10.527541Z"
    }
   },
   "outputs": [
    {
     "name": "stderr",
     "output_type": "stream",
     "text": [
      "C:\\Users\\Lenovo\\AppData\\Local\\Temp/ipykernel_3992/272676927.py:3: FutureWarning: The default value of regex will change from True to False in a future version. In addition, single character regular expressions will *not* be treated as literal strings when regex=True.\n",
      "  price = price.str.replace(\"$\", \"\")\n"
     ]
    },
    {
     "data": {
      "text/plain": [
       "0    10300\n",
       "1    38005\n",
       "2    54598\n",
       "3    15500\n",
       "4    34999\n",
       "Name: price, dtype: int32"
      ]
     },
     "execution_count": 16,
     "metadata": {},
     "output_type": "execute_result"
    }
   ],
   "source": [
    "price = df['price']\n",
    "price = price.str.replace(\",\", \"\")\n",
    "price = price.str.replace(\"$\", \"\")\n",
    "price = price.astype(int)\n",
    "price.head()"
   ]
  },
  {
   "cell_type": "code",
   "execution_count": 17,
   "metadata": {
    "execution": {
     "iopub.execute_input": "2025-03-15T09:26:12.299638Z",
     "iopub.status.busy": "2025-03-15T09:26:12.299146Z",
     "iopub.status.idle": "2025-03-15T09:26:12.306875Z",
     "shell.execute_reply": "2025-03-15T09:26:12.305337Z",
     "shell.execute_reply.started": "2025-03-15T09:26:12.299603Z"
    }
   },
   "outputs": [
    {
     "name": "stdout",
     "output_type": "stream",
     "text": [
      "[<class 'int'>]\n"
     ]
    }
   ],
   "source": [
    "print(price.apply(type).unique())"
   ]
  },
  {
   "cell_type": "code",
   "execution_count": 18,
   "metadata": {
    "execution": {
     "iopub.execute_input": "2025-03-15T09:26:15.490841Z",
     "iopub.status.busy": "2025-03-15T09:26:15.490480Z",
     "iopub.status.idle": "2025-03-15T09:26:15.500567Z",
     "shell.execute_reply": "2025-03-15T09:26:15.499384Z",
     "shell.execute_reply.started": "2025-03-15T09:26:15.490810Z"
    }
   },
   "outputs": [
    {
     "data": {
      "text/plain": [
       "None reported                             2910\n",
       "At least 1 accident or damage reported     986\n",
       "Name: accident, dtype: int64"
      ]
     },
     "execution_count": 18,
     "metadata": {},
     "output_type": "execute_result"
    }
   ],
   "source": [
    "# accident is categorical variable\n",
    "df['accident'].value_counts()"
   ]
  },
  {
   "cell_type": "code",
   "execution_count": 19,
   "metadata": {
    "execution": {
     "iopub.execute_input": "2025-03-15T09:30:45.159485Z",
     "iopub.status.busy": "2025-03-15T09:30:45.159067Z",
     "iopub.status.idle": "2025-03-15T09:30:45.164976Z",
     "shell.execute_reply": "2025-03-15T09:30:45.163883Z",
     "shell.execute_reply.started": "2025-03-15T09:30:45.159450Z"
    }
   },
   "outputs": [],
   "source": [
    "accident_free = df['accident'] == 'None reported'\n",
    "accident_free = accident_free.astype(int)"
   ]
  },
  {
   "cell_type": "code",
   "execution_count": 20,
   "metadata": {
    "execution": {
     "iopub.execute_input": "2025-03-15T09:30:49.733075Z",
     "iopub.status.busy": "2025-03-15T09:30:49.732698Z",
     "iopub.status.idle": "2025-03-15T09:30:49.742144Z",
     "shell.execute_reply": "2025-03-15T09:30:49.741205Z",
     "shell.execute_reply.started": "2025-03-15T09:30:49.733043Z"
    }
   },
   "outputs": [
    {
     "data": {
      "text/plain": [
       "tensor([[1.1000e+01, 5.1000e+04, 0.0000e+00],\n",
       "        [3.0000e+00, 3.4742e+04, 0.0000e+00],\n",
       "        [2.0000e+00, 2.2372e+04, 1.0000e+00],\n",
       "        ...,\n",
       "        [2.0000e+00, 2.1160e+03, 1.0000e+00],\n",
       "        [4.0000e+00, 3.3000e+04, 1.0000e+00],\n",
       "        [4.0000e+00, 4.3000e+04, 0.0000e+00]])"
      ]
     },
     "execution_count": 20,
     "metadata": {},
     "output_type": "execute_result"
    }
   ],
   "source": [
    "# Preparation training data X\n",
    "X = torch.column_stack([\n",
    "    torch.tensor(age.values, dtype = torch.float32),\n",
    "    torch.tensor(milage.values, dtype = torch.float32),\n",
    "    torch.tensor(accident_free.values, dtype = torch.float32)\n",
    "])\n",
    "X"
   ]
  },
  {
   "cell_type": "code",
   "execution_count": 21,
   "metadata": {
    "execution": {
     "iopub.execute_input": "2025-03-15T09:30:50.818010Z",
     "iopub.status.busy": "2025-03-15T09:30:50.817641Z",
     "iopub.status.idle": "2025-03-15T09:30:50.824081Z",
     "shell.execute_reply": "2025-03-15T09:30:50.822876Z",
     "shell.execute_reply.started": "2025-03-15T09:30:50.817977Z"
    }
   },
   "outputs": [
    {
     "name": "stdout",
     "output_type": "stream",
     "text": [
      "age type: <class 'pandas.core.series.Series'>, age shape: (4009,)\n",
      "milage type: <class 'pandas.core.series.Series'>, milage shape: (4009,)\n",
      "accident free type: <class 'pandas.core.series.Series'>, accident free shape: (4009,)\n"
     ]
    }
   ],
   "source": [
    "print(f\"age type: {type(age)}, age shape: {age.shape if hasattr(age, 'shape') else 'no shape'}\")\n",
    "print(f\"milage type: {type(milage)}, milage shape: {milage.shape if hasattr(milage, 'shape') else 'no shape'}\")\n",
    "print(f\"accident free type: {type(accident_free)}, accident free shape: {accident_free.shape if hasattr(accident_free, 'shape') else 'no shape'}\")"
   ]
  },
  {
   "cell_type": "code",
   "execution_count": 22,
   "metadata": {
    "execution": {
     "iopub.execute_input": "2025-03-15T09:31:03.119539Z",
     "iopub.status.busy": "2025-03-15T09:31:03.119142Z",
     "iopub.status.idle": "2025-03-15T09:31:03.123656Z",
     "shell.execute_reply": "2025-03-15T09:31:03.122365Z",
     "shell.execute_reply.started": "2025-03-15T09:31:03.119507Z"
    }
   },
   "outputs": [],
   "source": [
    "#print(age.apply(type).unique())\n",
    "#print(milage.apply(type).unique())\n",
    "#print(accident_free.apply(type).unique())"
   ]
  },
  {
   "cell_type": "code",
   "execution_count": 23,
   "metadata": {
    "execution": {
     "iopub.execute_input": "2025-03-15T09:31:04.928272Z",
     "iopub.status.busy": "2025-03-15T09:31:04.927891Z",
     "iopub.status.idle": "2025-03-15T09:31:04.936231Z",
     "shell.execute_reply": "2025-03-15T09:31:04.935270Z",
     "shell.execute_reply.started": "2025-03-15T09:31:04.928242Z"
    }
   },
   "outputs": [
    {
     "name": "stdout",
     "output_type": "stream",
     "text": [
      "tensor([8.4844e+00, 6.4718e+04, 7.2587e-01])\n",
      "tensor([6.1048e+00, 5.2297e+04, 4.4613e-01])\n"
     ]
    }
   ],
   "source": [
    "x_mean = X.mean(axis = 0)\n",
    "x_std = X.std(axis = 0)\n",
    "X = (X - x_mean) / x_std\n",
    "print(x_mean)\n",
    "print(x_std)"
   ]
  },
  {
   "cell_type": "code",
   "execution_count": 24,
   "metadata": {
    "execution": {
     "iopub.execute_input": "2025-03-15T09:31:09.833294Z",
     "iopub.status.busy": "2025-03-15T09:31:09.832954Z",
     "iopub.status.idle": "2025-03-15T09:31:09.838990Z",
     "shell.execute_reply": "2025-03-15T09:31:09.838017Z",
     "shell.execute_reply.started": "2025-03-15T09:31:09.833262Z"
    }
   },
   "outputs": [],
   "source": [
    "# preparation of y data\n",
    "y = torch.tensor(price, dtype = torch.float32).reshape(-1, 1)"
   ]
  },
  {
   "cell_type": "code",
   "execution_count": 25,
   "metadata": {
    "execution": {
     "iopub.execute_input": "2025-03-15T09:31:12.573143Z",
     "iopub.status.busy": "2025-03-15T09:31:12.572780Z",
     "iopub.status.idle": "2025-03-15T09:31:12.578480Z",
     "shell.execute_reply": "2025-03-15T09:31:12.577515Z",
     "shell.execute_reply.started": "2025-03-15T09:31:12.573112Z"
    }
   },
   "outputs": [],
   "source": [
    "y_mean = y.mean()\n",
    "y_std = y.std()\n",
    "y = (y - y_mean) / y_std"
   ]
  },
  {
   "cell_type": "code",
   "execution_count": 26,
   "metadata": {
    "execution": {
     "iopub.execute_input": "2025-03-15T09:34:23.683315Z",
     "iopub.status.busy": "2025-03-15T09:34:23.682884Z",
     "iopub.status.idle": "2025-03-15T09:34:23.689375Z",
     "shell.execute_reply": "2025-03-15T09:34:23.688215Z",
     "shell.execute_reply.started": "2025-03-15T09:34:23.683280Z"
    }
   },
   "outputs": [],
   "source": [
    "#model building\n",
    "model = nn.Linear(3,1)  #2 = number of independent variables and 1 = number of dependent variable\n",
    "loss_fn = torch.nn.MSELoss()\n",
    "optimizer = torch.optim.SGD(model.parameters(), lr = 0.001)"
   ]
  },
  {
   "cell_type": "code",
   "execution_count": 27,
   "metadata": {
    "execution": {
     "iopub.execute_input": "2025-03-15T09:34:25.403301Z",
     "iopub.status.busy": "2025-03-15T09:34:25.402899Z",
     "iopub.status.idle": "2025-03-15T09:34:26.800689Z",
     "shell.execute_reply": "2025-03-15T09:34:26.799649Z",
     "shell.execute_reply.started": "2025-03-15T09:34:25.403249Z"
    }
   },
   "outputs": [
    {
     "name": "stdout",
     "output_type": "stream",
     "text": [
      "1.3385069370269775\n",
      "1.1673721075057983\n",
      "1.079292893409729\n",
      "1.0265566110610962\n",
      "0.9920002222061157\n",
      "0.9681969881057739\n",
      "0.951335608959198\n",
      "0.9391945004463196\n",
      "0.9303638339042664\n",
      "0.9239009618759155\n",
      "0.9191516637802124\n",
      "0.9156526327133179\n",
      "0.913070023059845\n",
      "0.9111620783805847\n",
      "0.9097515344619751\n"
     ]
    }
   ],
   "source": [
    "losses = []\n",
    "for i in range(0, 3000):\n",
    "    \n",
    "    #Training Pass\n",
    "    optimizer.zero_grad()\n",
    "    outputs = model(X)\n",
    "    loss = loss_fn(outputs, y)\n",
    "    loss.backward()\n",
    "    optimizer.step()\n",
    "\n",
    "    if i % 200 == 0:\n",
    "        print(loss.item())\n",
    "    losses.append(loss.item())"
   ]
  },
  {
   "cell_type": "code",
   "execution_count": 28,
   "metadata": {
    "execution": {
     "iopub.execute_input": "2025-03-15T09:34:30.278463Z",
     "iopub.status.busy": "2025-03-15T09:34:30.277964Z",
     "iopub.status.idle": "2025-03-15T09:34:30.451790Z",
     "shell.execute_reply": "2025-03-15T09:34:30.450696Z",
     "shell.execute_reply.started": "2025-03-15T09:34:30.278413Z"
    }
   },
   "outputs": [
    {
     "data": {
      "text/plain": [
       "[<matplotlib.lines.Line2D at 0x228cb087ee0>]"
      ]
     },
     "execution_count": 28,
     "metadata": {},
     "output_type": "execute_result"
    },
    {
     "data": {
      "image/png": "[encoded data removed]",
      "text/plain": [
       "<Figure size 432x288 with 1 Axes>"
      ]
     },
     "metadata": {
      "needs_background": "light"
     },
     "output_type": "display_data"
    }
   ],
   "source": [
    "plt.plot(losses)"
   ]
  },
  {
   "cell_type": "code",
   "execution_count": 29,
   "metadata": {
    "execution": {
     "iopub.execute_input": "2025-03-15T09:39:28.493300Z",
     "iopub.status.busy": "2025-03-15T09:39:28.492908Z",
     "iopub.status.idle": "2025-03-15T09:39:28.498154Z",
     "shell.execute_reply": "2025-03-15T09:39:28.496973Z",
     "shell.execute_reply.started": "2025-03-15T09:39:28.493268Z"
    }
   },
   "outputs": [],
   "source": [
    "# do prediction on new data\n",
    "x_new = torch.tensor([\n",
    "    [5, 10000, 1],\n",
    "    [5, 10000, 0]\n",
    "], dtype = torch.float32)"
   ]
  },
  {
   "cell_type": "code",
   "execution_count": 30,
   "metadata": {
    "execution": {
     "iopub.execute_input": "2025-03-15T09:39:29.873082Z",
     "iopub.status.busy": "2025-03-15T09:39:29.872713Z",
     "iopub.status.idle": "2025-03-15T09:39:29.880848Z",
     "shell.execute_reply": "2025-03-15T09:39:29.879547Z",
     "shell.execute_reply.started": "2025-03-15T09:39:29.873045Z"
    }
   },
   "outputs": [
    {
     "name": "stdout",
     "output_type": "stream",
     "text": [
      "tensor([[0.2998],\n",
      "        [0.2283]], grad_fn=<AddmmBackward0>)\n",
      "tensor([[68149.9219],\n",
      "        [62526.2383]], grad_fn=<AddBackward0>)\n"
     ]
    }
   ],
   "source": [
    "prediction = model((x_new - x_mean) / x_std)\n",
    "print(prediction)\n",
    "print(prediction * y_std + y_mean)"
   ]
  },
  {
   "cell_type": "code",
   "execution_count": null,
   "metadata": {},
   "outputs": [],
   "source": []
  }
 ],
 "metadata": {
  "kaggle": {
   "accelerator": "none",
   "dataSources": [
    {
     "datasetId": 3742543,
     "sourceId": 6478229,
     "sourceType": "datasetVersion"
    }
   ],
   "dockerImageVersionId": 30918,
   "isGpuEnabled": false,
   "isInternetEnabled": true,
   "language": "python",
   "sourceType": "notebook"
  },
  "kernelspec": {
   "display_name": "Python 3 (ipykernel)",
   "language": "python",
   "name": "python3"
  },
  "language_info": {
   "codemirror_mode": {
    "name": "ipython",
    "version": 3
   },
   "file_extension": ".py",
   "mimetype": "text/x-python",
   "name": "python",
   "nbconvert_exporter": "python",
   "pygments_lexer": "ipython3",
   "version": "3.9.7"
  }
 },
 "nbformat": 4,
 "nbformat_minor": 4
}
